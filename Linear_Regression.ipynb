{
  "nbformat": 4,
  "nbformat_minor": 0,
  "metadata": {
    "colab": {
      "provenance": [],
      "authorship_tag": "ABX9TyNFLoPzA2T3PcEo3etXvooC",
      "include_colab_link": true
    },
    "kernelspec": {
      "name": "python3",
      "display_name": "Python 3"
    },
    "language_info": {
      "name": "python"
    }
  },
  "cells": [
    {
      "cell_type": "markdown",
      "metadata": {
        "id": "view-in-github",
        "colab_type": "text"
      },
      "source": [
        "<a href=\"https://colab.research.google.com/github/himanshuaggar/ML_Practice/blob/main/Linear_Regression.ipynb\" target=\"_parent\"><img src=\"https://colab.research.google.com/assets/colab-badge.svg\" alt=\"Open In Colab\"/></a>"
      ]
    },
    {
      "cell_type": "code",
      "execution_count": 18,
      "metadata": {
        "id": "ANcB5XgtKcy7"
      },
      "outputs": [],
      "source": [
        "import numpy as np\n",
        "import matplotlib.pyplot as plt\n"
      ]
    },
    {
      "cell_type": "code",
      "source": [
        "def estimate_coef(x, y):\n",
        "# number of observations/points\n",
        "  n = np.size(x)\n",
        "\n",
        "  m_x = np.mean(x)\n",
        "  m_y = np.mean(y)\n",
        "\n",
        "  SS_xy = np.sum(y*x) - n*m_y*m_x\n",
        "  SS_xx = np.sum(x*x) - n*m_x*m_x\n",
        "\n",
        "\n",
        "  b_1 = SS_xy / SS_xx\n",
        "  b_0 = m_y - b_1*m_x\n",
        "\n",
        "  return (b_0, b_1)\n"
      ],
      "metadata": {
        "id": "Lj5G1W6MKdx7"
      },
      "execution_count": 19,
      "outputs": []
    },
    {
      "cell_type": "code",
      "source": [
        "def plot_regression_line(x, y, b):\n",
        "  # plotting the actual points as scatter plot\n",
        "  plt.scatter(x, y, color = \"m\",\n",
        "        marker = \"o\", s = 30)\n",
        "\n",
        "  # predicted response vector\n",
        "  y_pred = b[0] + b[1]*x\n",
        "\n",
        "  # plotting the regression line\n",
        "  plt.plot(x, y_pred, color = \"g\")\n",
        "\n",
        "  # putting labels\n",
        "  plt.xlabel('x')\n",
        "  plt.ylabel('y')"
      ],
      "metadata": {
        "id": "n4zwktDvKg1B"
      },
      "execution_count": 20,
      "outputs": []
    },
    {
      "cell_type": "code",
      "source": [
        "plt.show()"
      ],
      "metadata": {
        "id": "t3axALJrKwNp"
      },
      "execution_count": 21,
      "outputs": []
    },
    {
      "cell_type": "code",
      "source": [
        "def main():\n",
        "  # observations / data\n",
        "  x = np.array([0, 1, 2, 3, 4, 5, 6, 7, 8, 9])\n",
        "  y = np.array([1, 3, 2, 5, 7, 8, 8, 9, 10, 12])\n",
        "\n",
        "  # estimating coefficients\n",
        "  b = estimate_coef(x, y)\n",
        "  print(\"Estimated coefficients:\\nb_0 = {} \\\n",
        "     \\nb_1 = {}\".format(b))"
      ],
      "metadata": {
        "id": "mFGHk74eLBYE"
      },
      "execution_count": 22,
      "outputs": []
    },
    {
      "cell_type": "code",
      "source": [],
      "metadata": {
        "id": "0RJLFex_LMKt"
      },
      "execution_count": 17,
      "outputs": []
    }
  ]
}